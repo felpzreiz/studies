{
  "cells": [
    {
      "cell_type": "markdown",
      "source": [
        "### T&D 3 - Limpeza de Dados\n",
        "Autor: Felipe Reis\n"
      ],
      "metadata": {
        "id": "MK_Nts5XxOGG"
      }
    },
    {
      "cell_type": "markdown",
      "source": [
        "###Import de dependências e tabelas"
      ],
      "metadata": {
        "id": "IhL6_XZTlusn"
      }
    },
    {
      "cell_type": "code",
      "execution_count": null,
      "metadata": {
        "id": "9bDIPty1AOLI"
      },
      "outputs": [],
      "source": [
        "!pip install pyspark==3.5.0"
      ]
    },
    {
      "cell_type": "code",
      "source": [
        "!pip install pandas"
      ],
      "metadata": {
        "id": "JN6N2IvSM7rf"
      },
      "execution_count": null,
      "outputs": []
    },
    {
      "cell_type": "code",
      "execution_count": null,
      "metadata": {
        "id": "VZCAMnPckxzv"
      },
      "outputs": [],
      "source": [
        "from pyspark.sql import SparkSession\n",
        "from pyspark.sql import functions as F\n",
        "import pandas as pd\n",
        "\n",
        "sc = SparkSession.builder.master('local[*]').getOrCreate()"
      ]
    },
    {
      "cell_type": "code",
      "source": [
        "df = pd.read_csv('sample_data/salario_dataset.csv')\n",
        "spark_df = sc.createDataFrame(df)"
      ],
      "metadata": {
        "id": "ulXJKdnzx8Gf"
      },
      "execution_count": null,
      "outputs": []
    },
    {
      "cell_type": "markdown",
      "source": [
        "###Limpeza dos dados categóricos\n",
        "\n"
      ],
      "metadata": {
        "id": "-m4IwYncUZaK"
      }
    },
    {
      "cell_type": "code",
      "source": [
        "cleaned_spark_df = (\n",
        "    spark_df\n",
        "    .withColumn('empresa', F.when(F.col('empresa').like('lnnNSf5YDt'), 'Outra').otherwise(F.col('empresa')))\n",
        "    .withColumn('cargo', F.when(F.col('cargo').like('s2iOR6wzbFZtK5T'), 'Outro').otherwise(F.col('cargo')))\n",
        "    .withColumn('nome', F.when(F.col('nome').like('NaN'), 'Outro').otherwise(F.col('nome')))\n",
        "    .withColumn('sobrenome', F.when(F.col('sobrenome').like('NaN'), 'Outro').otherwise(F.col('sobrenome')))\n",
        "    )"
      ],
      "metadata": {
        "id": "WT1EtondQSL0"
      },
      "execution_count": null,
      "outputs": []
    },
    {
      "cell_type": "markdown",
      "source": [
        "###Limpeza de dados numéricos"
      ],
      "metadata": {
        "id": "MgNSh0E1Uj5W"
      }
    },
    {
      "cell_type": "code",
      "source": [
        "cleaned_spark_df = (\n",
        "    cleaned_spark_df\n",
        "    .withColumn(\n",
        "      \"anos_de_experiencia\",\n",
        "      F.when(F.col(\"anos_de_experiencia\") < 0, None).otherwise(F.col(\"anos_de_experiencia\"))\n",
        "    )\n",
        "    .withColumn(\n",
        "      \"salario\",\n",
        "      F.when((F.col(\"salario\") < 0) | (F.col(\"salario\") == \"NaN\"), None).otherwise(F.col(\"salario\"))\n",
        "    ))\n",
        "\n",
        "median_anos = cleaned_spark_df.approxQuantile(\"anos_de_experiencia\", [0.5], 0.01)[0]\n",
        "cleaned_spark_df = cleaned_spark_df.fillna({\"anos_de_experiencia\": median_anos})\n",
        "\n",
        "cleaned_spark_df.show()"
      ],
      "metadata": {
        "id": "lvbeTglAasTD"
      },
      "execution_count": null,
      "outputs": []
    },
    {
      "cell_type": "code",
      "source": [
        "quantis = (\n",
        "    spark_df\n",
        "    .filter(F.col('salario') != 'NaN')\n",
        "    .approxQuantile('salario', [0.25, 0.75], 0.01)\n",
        "    )\n",
        "\n",
        "Q1, Q3 = quantis[0], quantis[1]\n",
        "\n",
        "IQR = Q3 - Q1\n",
        "\n",
        "limite_inferior = Q1 - 1.5 * IQR\n",
        "limite_superior = Q3 + 1.5 * IQR\n",
        "\n",
        "salario_filtrado = (spark_df.filter((F.col(\"salario\") >= limite_inferior) & (F.col(\"salario\") <= limite_superior)))\n",
        "median_salario = salario_filtrado.approxQuantile(\"salario\", [0.5], 0.01)[0]\n",
        "\n",
        "cleaned_spark_df = cleaned_spark_df.fillna({\"salario\": median_salario})"
      ],
      "metadata": {
        "id": "Ps6tY7jwwnKb"
      },
      "execution_count": null,
      "outputs": []
    }
  ],
  "metadata": {
    "colab": {
      "provenance": []
    },
    "kernelspec": {
      "display_name": "Python 3",
      "name": "python3"
    },
    "language_info": {
      "name": "python"
    }
  },
  "nbformat": 4,
  "nbformat_minor": 0
}